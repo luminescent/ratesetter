{
 "cells": [
  {
   "cell_type": "code",
   "execution_count": 23,
   "metadata": {
    "collapsed": false
   },
   "outputs": [],
   "source": [
    "from pre_process import get_rate_setter_dictionary_corpus\n",
    "from gensim import corpora, models, similarities\n",
    "from gensim.models import LdaMulticore"
   ]
  },
  {
   "cell_type": "code",
   "execution_count": 24,
   "metadata": {
    "collapsed": false
   },
   "outputs": [],
   "source": [
    "dictionary, corpus = get_rate_setter_dictionary_corpus()"
   ]
  },
  {
   "cell_type": "code",
   "execution_count": 19,
   "metadata": {
    "collapsed": false
   },
   "outputs": [
    {
     "name": "stdout",
     "output_type": "stream",
     "text": [
      "Dictionary(1985 unique tokens: ['big', 'tempt', 'visit', 'team', 'back']...)\n"
     ]
    }
   ],
   "source": [
    "print(dictionary)"
   ]
  },
  {
   "cell_type": "code",
   "execution_count": 20,
   "metadata": {
    "collapsed": false
   },
   "outputs": [],
   "source": [
    "lda = LdaMulticore(corpus=corpus, num_topics=5, id2word=dictionary, passes=100)"
   ]
  },
  {
   "cell_type": "code",
   "execution_count": 21,
   "metadata": {
    "collapsed": false
   },
   "outputs": [
    {
     "data": {
      "text/plain": [
       "[(0,\n",
       "  '0.028*ratesett + 0.015*rate + 0.014*custom + 0.014*servic + 0.011*credit + 0.010*help + 0.009*bank + 0.009*got + 0.009*borrow + 0.008*way'),\n",
       " (1,\n",
       "  '0.030*rate + 0.028*loan + 0.023*bank + 0.019*easi + 0.017*servic + 0.016*money + 0.013*process + 0.011*setter + 0.011*within + 0.010*hour'),\n",
       " (2,\n",
       "  '0.047*loan + 0.033*ratesett + 0.028*recommend + 0.026*compani + 0.018*would + 0.017*servic + 0.014*time + 0.012*rate + 0.012*highli + 0.012*use'),\n",
       " (3,\n",
       "  '0.032*loan + 0.031*easi + 0.017*deal + 0.016*simpl + 0.015*earli + 0.014*process + 0.013*pay + 0.013*ratesett + 0.011*applic + 0.011*rate'),\n",
       " (4,\n",
       "  '0.074*servic + 0.062*easi + 0.051*quick + 0.040*excel + 0.031*recommend + 0.030*great + 0.028*fast + 0.028*rate + 0.025*use + 0.022*loan')]"
      ]
     },
     "execution_count": 21,
     "metadata": {},
     "output_type": "execute_result"
    }
   ],
   "source": [
    "lda.show_topics()"
   ]
  },
  {
   "cell_type": "code",
   "execution_count": 22,
   "metadata": {
    "collapsed": false
   },
   "outputs": [
    {
     "data": {
      "text/plain": [
       "[(0,\n",
       "  '0.028*ratesett + 0.015*rate + 0.014*custom + 0.014*servic + 0.011*credit + 0.010*help + 0.009*bank + 0.009*got + 0.009*borrow + 0.008*way'),\n",
       " (1,\n",
       "  '0.030*rate + 0.028*loan + 0.023*bank + 0.019*easi + 0.017*servic + 0.016*money + 0.013*process + 0.011*setter + 0.011*within + 0.010*hour'),\n",
       " (2,\n",
       "  '0.047*loan + 0.033*ratesett + 0.028*recommend + 0.026*compani + 0.018*would + 0.017*servic + 0.014*time + 0.012*rate + 0.012*highli + 0.012*use'),\n",
       " (3,\n",
       "  '0.032*loan + 0.031*easi + 0.017*deal + 0.016*simpl + 0.015*earli + 0.014*process + 0.013*pay + 0.013*ratesett + 0.011*applic + 0.011*rate'),\n",
       " (4,\n",
       "  '0.074*servic + 0.062*easi + 0.051*quick + 0.040*excel + 0.031*recommend + 0.030*great + 0.028*fast + 0.028*rate + 0.025*use + 0.022*loan')]"
      ]
     },
     "execution_count": 22,
     "metadata": {},
     "output_type": "execute_result"
    }
   ],
   "source": [
    "lda.print_topics()"
   ]
  },
  {
   "cell_type": "code",
   "execution_count": 10,
   "metadata": {
    "collapsed": false
   },
   "outputs": [
    {
     "data": {
      "text/plain": [
       "'rate'"
      ]
     },
     "execution_count": 10,
     "metadata": {},
     "output_type": "execute_result"
    }
   ],
   "source": [
    "dictionary[lda.get_topic_terms(0)[0][0]]\n"
   ]
  },
  {
   "cell_type": "code",
   "execution_count": null,
   "metadata": {
    "collapsed": true
   },
   "outputs": [],
   "source": []
  }
 ],
 "metadata": {
  "kernelspec": {
   "display_name": "Python 3",
   "language": "python",
   "name": "python3"
  },
  "language_info": {
   "codemirror_mode": {
    "name": "ipython",
    "version": 3
   },
   "file_extension": ".py",
   "mimetype": "text/x-python",
   "name": "python",
   "nbconvert_exporter": "python",
   "pygments_lexer": "ipython3",
   "version": "3.4.4"
  }
 },
 "nbformat": 4,
 "nbformat_minor": 0
}
